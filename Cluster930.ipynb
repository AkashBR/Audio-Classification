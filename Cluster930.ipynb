{
  "nbformat": 4,
  "nbformat_minor": 0,
  "metadata": {
    "colab": {
      "provenance": [],
      "authorship_tag": "ABX9TyP7vnJIqAkT6ExIRP2DpJt2",
      "include_colab_link": true
    },
    "kernelspec": {
      "name": "python3",
      "display_name": "Python 3"
    },
    "language_info": {
      "name": "python"
    }
  },
  "cells": [
    {
      "cell_type": "markdown",
      "metadata": {
        "id": "view-in-github",
        "colab_type": "text"
      },
      "source": [
        "<a href=\"https://colab.research.google.com/github/AkashBR/Audio-Classification/blob/main/Cluster930.ipynb\" target=\"_parent\"><img src=\"https://colab.research.google.com/assets/colab-badge.svg\" alt=\"Open In Colab\"/></a>"
      ]
    },
    {
      "cell_type": "code",
      "execution_count": 2,
      "metadata": {
        "colab": {
          "base_uri": "https://localhost:8080/"
        },
        "id": "IaLA0JqYhiKS",
        "outputId": "297057d5-bcc4-4f93-a9cf-3f548cacb560"
      },
      "outputs": [
        {
          "output_type": "stream",
          "name": "stdout",
          "text": [
            "Mounted at /content/drive\n"
          ]
        }
      ],
      "source": [
        "import pandas as pd\n",
        "import numpy as np\n",
        "from google.colab import drive\n",
        "\n",
        "# Mount Google Drive\n",
        "drive.mount('/content/drive')\n",
        "\n",
        "# Load the CSV file\"\n",
        "df = pd.read_csv('/content/drive/My Drive/nifty_calculated_data.csv')"
      ]
    },
    {
      "cell_type": "code",
      "source": [
        "df['time'] = pd.to_datetime(df['time'], format='%H:%M').dt.time"
      ],
      "metadata": {
        "id": "NI94h3VLCoTV"
      },
      "execution_count": 18,
      "outputs": []
    },
    {
      "cell_type": "code",
      "source": [
        "import numpy as np\n",
        "\n",
        "def assign_cluster(value):\n",
        "    if pd.isna(value):\n",
        "        return np.nan\n",
        "    for i in np.arange(-10.0, 10.1, 0.1):\n",
        "        if i <= value < i + 0.1:\n",
        "            return f\"{i:.1f}-{i+0.1:.1f}\"\n",
        "    return np.nan"
      ],
      "metadata": {
        "id": "wPYe60xLhizj"
      },
      "execution_count": 24,
      "outputs": []
    },
    {
      "cell_type": "code",
      "source": [
        "# Convert time to datetime.time format\n",
        "df['time'] = pd.to_datetime(df['time'], format='%H:%M:%S').dt.time\n",
        "\n",
        "# Filter for 9:30 AM data\n",
        "df_930 = df[df['time'] == pd.to_datetime('09:30:00').time()]"
      ],
      "metadata": {
        "id": "Qen2ZG8jBTAF"
      },
      "execution_count": 27,
      "outputs": []
    },
    {
      "cell_type": "code",
      "source": [
        "def assign_cluster(value):\n",
        "    if pd.isna(value):\n",
        "        return np.nan\n",
        "    for i in np.arange(-10.0, 10.1, 0.1):\n",
        "        if i <= value < i + 0.1:\n",
        "            return f\"{i:.1f}-{i+0.1:.1f}\"\n",
        "    return np.nan\n",
        "\n",
        "# Create the cluster930 column for 9:30 AM data\n",
        "df.loc[df['time'] == pd.to_datetime('09:30').time(), 'cluster930'] = df_930['pct_diff_open_prev_close'].apply(assign_cluster)\n",
        "\n",
        "# Fill NaN values in cluster930 column for non-9:30 AM rows\n",
        "df['cluster930'] = df['cluster930'].fillna('N/A')\n",
        "\n",
        "# Print the 9:30 AM data to verify\n",
        "print(df[df['time'] == pd.to_datetime('09:30').time()][['date', 'time', 'pct_diff_open_prev_close', 'cluster930']])"
      ],
      "metadata": {
        "colab": {
          "base_uri": "https://localhost:8080/"
        },
        "id": "jCmT2Tpvh9Ui",
        "outputId": "2cb4feae-f637-4801-93d8-94fd8f13ae05"
      },
      "execution_count": 28,
      "outputs": [
        {
          "output_type": "stream",
          "name": "stdout",
          "text": [
            "              date      time  pct_diff_open_prev_close cluster930\n",
            "15      2015-01-09  09:30:00                       NaN        N/A\n",
            "390     2015-01-12  09:30:00                 -0.175719  -0.2--0.1\n",
            "765     2015-01-13  09:30:00                  0.058848   -0.0-0.1\n",
            "1140    2015-01-14  09:30:00                 -0.040343  -0.1--0.0\n",
            "1515    2015-01-15  09:30:00                  1.554101    1.5-1.6\n",
            "...            ...       ...                       ...        ...\n",
            "888651  2024-08-22  09:30:00                  0.182593    0.1-0.2\n",
            "889026  2024-08-23  09:30:00                  0.073556   -0.0-0.1\n",
            "889401  2024-08-26  09:30:00                  0.345323    0.3-0.4\n",
            "889776  2024-08-27  09:30:00                 -0.037183  -0.1--0.0\n",
            "890151  2024-08-28  09:30:00                  0.062007   -0.0-0.1\n",
            "\n",
            "[2374 rows x 4 columns]\n"
          ]
        }
      ]
    },
    {
      "cell_type": "code",
      "source": [
        "clusters = [f\"{i:.1f}-{i+0.1:.1f}\" for i in np.arange(-10.0, 10.0, 0.1)]\n",
        "cluster_df = pd.DataFrame({'Cluster': clusters})"
      ],
      "metadata": {
        "id": "jmmSkLKi-nPG"
      },
      "execution_count": 29,
      "outputs": []
    },
    {
      "cell_type": "code",
      "source": [
        "df_930 = df[df['time'] == pd.to_datetime('09:30').time()]\n",
        "cluster_counts = df_930['cluster930'].value_counts().reset_index()\n",
        "cluster_counts.columns = ['Cluster', 'Count']"
      ],
      "metadata": {
        "id": "Zo9YNHSd-4uS"
      },
      "execution_count": 30,
      "outputs": []
    },
    {
      "cell_type": "code",
      "source": [
        "result_df = cluster_df.merge(cluster_counts, on='Cluster', how='left')\n",
        "result_df['Count'] = result_df['Count'].fillna(0).astype(int)"
      ],
      "metadata": {
        "id": "WmxASG5v_LBE"
      },
      "execution_count": 31,
      "outputs": []
    },
    {
      "cell_type": "code",
      "source": [
        "from dash import Dash, dash_table, html\n",
        "import dash_bootstrap_components as dbc\n",
        "\n",
        "app = Dash(__name__, external_stylesheets=[dbc.themes.BOOTSTRAP])\n",
        "\n",
        "app.layout = dbc.Container([\n",
        "    html.H1(\"Cluster Counts for 9:30 AM\", className=\"text-center mt-4 mb-4\"),\n",
        "    dash_table.DataTable(\n",
        "        id='table',\n",
        "        columns=[{\"name\": i, \"id\": i} for i in result_df.columns],\n",
        "        data=result_df.to_dict('records'),\n",
        "        style_table={'height': '400px', 'overflowY': 'auto'},\n",
        "        style_cell={\n",
        "            'textAlign': 'center',\n",
        "            'minWidth': '100px', 'width': '100px', 'maxWidth': '100px',\n",
        "            'overflow': 'hidden',\n",
        "            'textOverflow': 'ellipsis',\n",
        "        },\n",
        "        style_header={\n",
        "            'backgroundColor': 'rgb(230, 230, 230)',\n",
        "            'fontWeight': 'bold'\n",
        "        },\n",
        "        style_data_conditional=[\n",
        "            {\n",
        "                'if': {'row_index': 'odd'},\n",
        "                'backgroundColor': 'rgb(248, 248, 248)'\n",
        "            }\n",
        "        ],\n",
        "        page_action='none',\n",
        "        fixed_rows={'headers': True},\n",
        "    )\n",
        "], fluid=True)\n",
        "\n",
        "if __name__ == '__main__':\n",
        "    app.run_server(debug=True)"
      ],
      "metadata": {
        "colab": {
          "base_uri": "https://localhost:8080/",
          "height": 672
        },
        "id": "FOqroH-r-yqL",
        "outputId": "8fdc3d77-301b-4712-b33a-6e0504c06af1"
      },
      "execution_count": 32,
      "outputs": [
        {
          "output_type": "display_data",
          "data": {
            "text/plain": [
              "<IPython.core.display.Javascript object>"
            ],
            "application/javascript": [
              "(async (port, path, width, height, cache, element) => {\n",
              "    if (!google.colab.kernel.accessAllowed && !cache) {\n",
              "      return;\n",
              "    }\n",
              "    element.appendChild(document.createTextNode(''));\n",
              "    const url = await google.colab.kernel.proxyPort(port, {cache});\n",
              "    const iframe = document.createElement('iframe');\n",
              "    iframe.src = new URL(path, url).toString();\n",
              "    iframe.height = height;\n",
              "    iframe.width = width;\n",
              "    iframe.style.border = 0;\n",
              "    iframe.allow = [\n",
              "        'accelerometer',\n",
              "        'autoplay',\n",
              "        'camera',\n",
              "        'clipboard-read',\n",
              "        'clipboard-write',\n",
              "        'gyroscope',\n",
              "        'magnetometer',\n",
              "        'microphone',\n",
              "        'serial',\n",
              "        'usb',\n",
              "        'xr-spatial-tracking',\n",
              "    ].join('; ');\n",
              "    element.appendChild(iframe);\n",
              "  })(8050, \"/\", \"100%\", 650, false, window.element)"
            ]
          },
          "metadata": {}
        }
      ]
    },
    {
      "cell_type": "code",
      "source": [],
      "metadata": {
        "id": "6HOy3QAS-1Cx"
      },
      "execution_count": null,
      "outputs": []
    }
  ]
}